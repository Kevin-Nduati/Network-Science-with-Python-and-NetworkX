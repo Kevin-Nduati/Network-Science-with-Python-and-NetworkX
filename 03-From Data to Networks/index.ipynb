{
 "cells": [
  {
   "cell_type": "markdown",
   "metadata": {},
   "source": [
    "# From Data to Networks\n",
    " "
   ]
  },
  {
   "cell_type": "markdown",
   "metadata": {},
   "source": [
    "## Modeling your Data\n",
    "Networks are fundamentally about relationships and connections, so one way to define nodes and edges is to think about what types of relationships you're interested in. Some possibilities include:\n",
    "* Social relationships, such as friendships etc\n",
    "* Flows, such as information, people, money\n",
    "* Influence, such as scientific citations, software dependencies\n",
    "* Connection, such as networked computers, bones in a skeleton\n",
    "* Co-occurrence of words in text\n",
    "\n",
    "\n",
    "## Reading and writing network files\n"
   ]
  }
 ],
 "metadata": {
  "kernelspec": {
   "display_name": "networks",
   "language": "python",
   "name": "python3"
  },
  "language_info": {
   "codemirror_mode": {
    "name": "ipython",
    "version": 3
   },
   "file_extension": ".py",
   "mimetype": "text/x-python",
   "name": "python",
   "nbconvert_exporter": "python",
   "pygments_lexer": "ipython3",
   "version": "3.10.12"
  },
  "orig_nbformat": 4
 },
 "nbformat": 4,
 "nbformat_minor": 2
}
