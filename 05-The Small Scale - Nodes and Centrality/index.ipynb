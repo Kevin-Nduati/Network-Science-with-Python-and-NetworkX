{
 "cells": [
  {
   "cell_type": "markdown",
   "metadata": {},
   "source": [
    "The micro-scale structure describes the positions and roles played by specific nodes within a greater network. Such analysis can be used to identify influential individuals, bottlenecks in flows, and convenient locations for assembling information or resources.\n",
    "* **Centrality-** Quantifying a node's structural properties using centrality measures\n",
    "* **Betweenness centrality-** Identifying nodes that act like bridges using the betweenness centrality\n",
    "* **Eigenvector centrality-** Quantifying the distance between a node and the rest of the network using closeness centrality\n",
    "* **Local clustering-** Quantifying the interconnectedness of a node's neighborhood\n"
   ]
  },
  {
   "cell_type": "markdown",
   "metadata": {},
   "source": [
    "## Centrality - Finding Key Nodes\n",
    "Centrality is often introduced as a measure of importance, but there are many ways in which a node can be important. One of the simplest centrality measures is **degree centrality**. A node degree of centrality is just the number of neighbors it has (in a directed network, there are both in-degree and out-degree). \n",
    "In a social network, degree centrality is a measure of popularity, and might be a good way to guess who throws the best parties etc\n",
    "\n",
    "## Bridges, Brokers, and Bottlenecks - Betweenness centrality\n",
    "In a complex social network, such as organizations and social movements, the individuals who connect different parts of the network have the greatest ability to filter, amplify, and alter information. Such individuals are called **brokers**, while edges that span distant parts of the network are called **bridges**. This information isn't limited to social networks. In flow networks, such as railroads, water pipes, and telecommunications systems - nodes connecting distant parts of a network can act as a bottleneck, limiting the amount of flow. Identifying such bottlenecks makes it possible to increase their capacity and protect them from failures and attacks. \n",
    "\n",
    "To understand betweenness centrality, it is necessary to understand the concept of shortest path. A path is a sequence of nodes, moving along edges from neighbor to neighbor. Betweenness centrality is based on the assumption that the greater the number of shortest paths pass through a node(or edge), the more it acts as a broker(or bridge). To calculate betweenness centrality, the shortest paths between each pair of nodes are found. The betweenness centrality value for a node or edge is just the number of these paths that pass through it. There are a couple of caveats. First, by convention, paths are not considered to pass through their endpoints and do not contribute to betweenness centrality.\n",
    "\n",
    "Betweenness centrality is based on the assumption that the greater the number of shortest paths pass through a node(or edge), the more it acts as a broker(or bridge). If there are two shortest paths of the same length, each path contributes 1/2 to the betweenness centrality of its nodes/edges(or 1/3 if there are 3 paths)."
   ]
  },
  {
   "cell_type": "markdown",
   "metadata": {},
   "source": [
    "Let us cover a covert network, namely of British suffragettes in the early 20th century. These networks are particularly interesting to study because there is a tension between the need for secrecy and the need to spread information throughout the network. The following example comes from the arrest records of British suffragettes. These records form an affiliation network between individuals and mass arrrests."
   ]
  },
  {
   "cell_type": "code",
   "execution_count": 1,
   "metadata": {},
   "outputs": [],
   "source": [
    "from networkx.algorithms import bipartite\n",
    "from networkx import NetworkXError\n",
    "import networkx as nx\n",
    "from pathlib import Path\n",
    "\n",
    "\n",
    "\n",
    "# create an empty affiliation network and list of people\n",
    "B = nx.Graph()\n",
    "people = set()\n",
    "\n",
    "data_dir = \"../data/crossley2012/50_ALL_2M.csv\"\n",
    "with open(data_dir) as f:\n",
    "    # parse header\n",
    "    events = next(f).strip().split(\",\")[1:]\n",
    "    for row in f:\n",
    "        parts = row.strip().split(\",\")\n",
    "        person = parts[0]\n",
    "        people.add(person)\n",
    "        for j, value in enumerate(parts[1:]):\n",
    "            if value != \"0\":\n",
    "                B.add_edge(person, events[j], weights = int(value))\n",
    "\n",
    "# project into person-person co-affiliation network\n",
    "G = bipartite.projected_graph(B, people)\n"
   ]
  },
  {
   "cell_type": "code",
   "execution_count": 2,
   "metadata": {},
   "outputs": [
    {
     "data": {
      "text/plain": [
       "[('Maud Joachim', 52896.53324605239),\n",
       " ('Ada Wright', 26344.263264276873),\n",
       " ('Patricia Woodlock', 24774.923422322485),\n",
       " ('Emily Duval', 19517.90621411947),\n",
       " ('Mary Leigh', 19404.225833772107),\n",
       " ('Mabel Capper', 18221.362811581734),\n",
       " ('Sylvia Pankhurst', 18127.59688636898),\n",
       " ('Elsie Evans', 15674.806298703472),\n",
       " ('Winifred Mayo', 15600.989680321347),\n",
       " ('Vera Wentworth', 13233.504078942527)]"
      ]
     },
     "execution_count": 2,
     "metadata": {},
     "output_type": "execute_result"
    }
   ],
   "source": [
    "# calculate the betweenness centrality\n",
    "betweenness = nx.betweenness_centrality(\n",
    "    G,\n",
    "    normalized=False\n",
    ")\n",
    "\n",
    "sorted(betweenness.items(), key=lambda x:x[1], reverse=True)[0:10]"
   ]
  },
  {
   "cell_type": "markdown",
   "metadata": {},
   "source": [
    "High betweenness centrality suggests that these individuals were important information brokers in the suffragette movement"
   ]
  },
  {
   "cell_type": "markdown",
   "metadata": {},
   "source": [
    "## Hubs - Eigenvector Centrality\n",
    "The more well-connected a node, the higher the eigenvector centrality"
   ]
  },
  {
   "cell_type": "code",
   "execution_count": 4,
   "metadata": {},
   "outputs": [
    {
     "data": {
      "text/plain": [
       "[('Maud Joachim', 0.11587964174472977),\n",
       " ('Caroline A Downing', 0.11437066100686202),\n",
       " ('Kitty Marion', 0.11344996012448637),\n",
       " ('Mabel Capper', 0.10991776240126291),\n",
       " ('Annie Bell', 0.10834705221110304),\n",
       " ('Grace Chappelow', 0.10818185244249963),\n",
       " ('Winifred Mayo', 0.10803831965810351),\n",
       " ('Ellen Pitfield', 0.10518714292397999),\n",
       " ('Dorothy Agnes Bowker', 0.10493919222545887),\n",
       " ('Mrs Maud Fussell', 0.10490326319130666)]"
      ]
     },
     "execution_count": 4,
     "metadata": {},
     "output_type": "execute_result"
    }
   ],
   "source": [
    "eigenvector = nx.eigenvector_centrality(G)\n",
    "sorted(eigenvector.items(), key=lambda x: x[1], reverse=True)[0:10]"
   ]
  },
  {
   "cell_type": "markdown",
   "metadata": {},
   "source": [
    "Individuals with high eigenvector centrality create many short paths between others, but not necessarily the shortest paths"
   ]
  },
  {
   "cell_type": "markdown",
   "metadata": {},
   "source": [
    "## Closeness Centrality\n",
    "The farness of a node is the sum of distances between that node and all other nodes. So a node with high closeness centrality is literally close to the other nodes. Nodes with high closeness have, on average, short paths to many other nodes, which can be helpful for disseminating resources quickly."
   ]
  },
  {
   "cell_type": "code",
   "execution_count": 5,
   "metadata": {},
   "outputs": [
    {
     "data": {
      "text/plain": [
       "[('Maud Joachim', 0.5357241748956739),\n",
       " ('Caroline A Downing', 0.5009438937877011),\n",
       " ('Winifred Mayo', 0.5009438937877011),\n",
       " ('Mabel Capper', 0.5006919099377073),\n",
       " ('Kitty Marion', 0.49793672684150186),\n",
       " ('Ada Wright', 0.4898501559823633),\n",
       " ('Patricia Woodlock', 0.4886477746471095),\n",
       " ('Vera Wentworth', 0.48769011119851163),\n",
       " ('Evelyn Whurry', 0.4874512815652116),\n",
       " ('Annie Bell', 0.4869743233640714)]"
      ]
     },
     "execution_count": 5,
     "metadata": {},
     "output_type": "execute_result"
    }
   ],
   "source": [
    "closeness = nx.closeness_centrality(G)\n",
    "sorted(closeness.items(), key=lambda x: x[1], reverse=True)[0:10]"
   ]
  },
  {
   "cell_type": "markdown",
   "metadata": {},
   "source": [
    "## Local Clustering\n",
    "Betweenness, eigenvector, and closeness centrality all characterize a node by its relation to other nodes in the network. It is often useful to consider whether a node's neighbors tend to be connected to each other. In a social network, the question translates to asking whether the friend of a friend is also your friend, a property known as **transitivity**. The results of such relationships are triangles: three nodes, all mutually connected. When strong clustering is present, it often suggests robustness, and redundancy in a network - if one edge disappears, a path still exists via the other two. Clustering is measured via **local clustering coefficient**, defined as the fraction of all pairs of a node's neighbors that have an edge between them. \n"
   ]
  },
  {
   "cell_type": "code",
   "execution_count": 6,
   "metadata": {},
   "outputs": [
    {
     "data": {
      "text/plain": [
       "[('Maud Joachim', 19687),\n",
       " ('Caroline A Downing', 18201),\n",
       " ('Kitty Marion', 17696),\n",
       " ('Mabel Capper', 16811),\n",
       " ('Winifred Mayo', 16455),\n",
       " ('Annie Bell', 16065),\n",
       " ('Grace Chappelow', 16018),\n",
       " ('Ellen Pitfield', 14910),\n",
       " ('Mrs Maud Fussell', 14841),\n",
       " ('Dorothy Agnes Bowker', 14750)]"
      ]
     },
     "execution_count": 6,
     "metadata": {},
     "output_type": "execute_result"
    }
   ],
   "source": [
    "triangles = nx.triangles(G)\n",
    "sorted(triangles.items(), key=lambda x: x[1], reverse=True)[0:10]"
   ]
  },
  {
   "cell_type": "code",
   "execution_count": 7,
   "metadata": {},
   "outputs": [
    {
     "data": {
      "text/plain": [
       "[('Maud Joachim', 0.23595330552759),\n",
       " ('Caroline A Downing', 0.34999903851700864),\n",
       " ('Kitty Marion', 0.3670988486671507),\n",
       " ('Mabel Capper', 0.33992518451117176),\n",
       " ('Annie Bell', 0.4233201581027668),\n",
       " ('Grace Chappelow', 0.43461037551551984),\n",
       " ('Winifred Mayo', 0.3480477177545582),\n",
       " ('Ellen Pitfield', 0.4828993392926545),\n",
       " ('Dorothy Agnes Bowker', 0.5058125578683859),\n",
       " ('Mrs Maud Fussell', 0.5006071645415908)]"
      ]
     },
     "execution_count": 7,
     "metadata": {},
     "output_type": "execute_result"
    }
   ],
   "source": [
    "# use the clustering() to find the local clustering coefficient for these nodes\n",
    "clustering = nx.clustering(G)\n",
    "[(x, clustering[x]) for x in sorted(people, key=lambda x:eigenvector[x], reverse=True)[0:10]]"
   ]
  }
 ],
 "metadata": {
  "kernelspec": {
   "display_name": "networks",
   "language": "python",
   "name": "python3"
  },
  "language_info": {
   "codemirror_mode": {
    "name": "ipython",
    "version": 3
   },
   "file_extension": ".py",
   "mimetype": "text/x-python",
   "name": "python",
   "nbconvert_exporter": "python",
   "pygments_lexer": "ipython3",
   "version": "3.10.12"
  }
 },
 "nbformat": 4,
 "nbformat_minor": 2
}
